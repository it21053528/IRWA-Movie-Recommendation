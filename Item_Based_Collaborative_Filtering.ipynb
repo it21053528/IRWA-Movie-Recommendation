{
  "cells": [
    {
      "cell_type": "markdown",
      "metadata": {
        "id": "n_JptLRauK5-"
      },
      "source": [
        "# Item-Based Collaborative Filtering Recommendation Algorithm"
      ]
    },
    {
      "cell_type": "markdown",
      "metadata": {
        "id": "xMdkjwpKuR2S"
      },
      "source": [
        "Item-based collaborative filtering makes recommendations based on user-product interactions in the past. The assumption behind the algorithm is that users like similar products and dislike similar products, so they give similar ratings to similar products.\n",
        "\n",
        "Item-based collaborative filtering algorithm usually has the following steps:\n",
        "\n",
        "1. Calculate item similarity scores based on all the user ratings.\n",
        "2. Identify the top n items that are most similar to the item of interest.\n",
        "3. Calculate the weighted average score for the most similar items by the user.\n",
        "4. Rank items based on the score and pick top n items to recommend."
      ]
    },
    {
      "cell_type": "markdown",
      "metadata": {
        "id": "CxYEWIeoC7Ji"
      },
      "source": [
        "## Step 1: Import Python Libraries"
      ]
    },
    {
      "cell_type": "markdown",
      "metadata": {
        "id": "m88P6Q0u1JYy"
      },
      "source": [
        "In the first step, we will import Python libraries `pandas`, `numpy`, and `scipy.stats`. These three libraries are for data processing and calculations.\n",
        "\n",
        "We also imported `seaborn` for visualization and `cosine_similarity` for calculating similarity scores."
      ]
    },
    {
      "cell_type": "code",
      "execution_count": 1,
      "metadata": {
        "id": "JBESx3d0HdRL"
      },
      "outputs": [],
      "source": [
        "# Data processing\n",
        "import pandas as pd\n",
        "import numpy as np\n",
        "import scipy.stats\n",
        "\n",
        "# Visualization\n",
        "import seaborn as sns\n",
        "\n",
        "# Similarity\n",
        "from sklearn.metrics.pairwise import cosine_similarity"
      ]
    },
    {
      "cell_type": "markdown",
      "metadata": {
        "id": "aPspT8_JC-jV"
      },
      "source": [
        "## Step 2: Data collection"
      ]
    },
    {
      "cell_type": "markdown",
      "metadata": {
        "id": "01GfDb-RIphe"
      },
      "source": [
        "There are multiple datasets in the 100k movielens folder. we will use two ratings and movies.\n",
        "\n",
        "Now let's read in the rating data."
      ]
    },
    {
      "cell_type": "code",
      "execution_count": 2,
      "metadata": {
        "colab": {
          "base_uri": "https://localhost:8080/",
          "height": 206
        },
        "id": "H62RNzlYH0Ok",
        "outputId": "fd824857-a041-4796-8fb0-afad83d7d26b"
      },
      "outputs": [
        {
          "data": {
            "text/html": [
              "<div>\n",
              "<style scoped>\n",
              "    .dataframe tbody tr th:only-of-type {\n",
              "        vertical-align: middle;\n",
              "    }\n",
              "\n",
              "    .dataframe tbody tr th {\n",
              "        vertical-align: top;\n",
              "    }\n",
              "\n",
              "    .dataframe thead th {\n",
              "        text-align: right;\n",
              "    }\n",
              "</style>\n",
              "<table border=\"1\" class=\"dataframe\">\n",
              "  <thead>\n",
              "    <tr style=\"text-align: right;\">\n",
              "      <th></th>\n",
              "      <th>userId</th>\n",
              "      <th>movieId</th>\n",
              "      <th>rating</th>\n",
              "      <th>timestamp</th>\n",
              "    </tr>\n",
              "  </thead>\n",
              "  <tbody>\n",
              "    <tr>\n",
              "      <th>0</th>\n",
              "      <td>1</td>\n",
              "      <td>31</td>\n",
              "      <td>2.5</td>\n",
              "      <td>1260759144</td>\n",
              "    </tr>\n",
              "    <tr>\n",
              "      <th>1</th>\n",
              "      <td>1</td>\n",
              "      <td>1029</td>\n",
              "      <td>3.0</td>\n",
              "      <td>1260759179</td>\n",
              "    </tr>\n",
              "    <tr>\n",
              "      <th>2</th>\n",
              "      <td>1</td>\n",
              "      <td>1061</td>\n",
              "      <td>3.0</td>\n",
              "      <td>1260759182</td>\n",
              "    </tr>\n",
              "    <tr>\n",
              "      <th>3</th>\n",
              "      <td>1</td>\n",
              "      <td>1129</td>\n",
              "      <td>2.0</td>\n",
              "      <td>1260759185</td>\n",
              "    </tr>\n",
              "    <tr>\n",
              "      <th>4</th>\n",
              "      <td>1</td>\n",
              "      <td>1172</td>\n",
              "      <td>4.0</td>\n",
              "      <td>1260759205</td>\n",
              "    </tr>\n",
              "  </tbody>\n",
              "</table>\n",
              "</div>"
            ],
            "text/plain": [
              "   userId  movieId  rating   timestamp\n",
              "0       1       31     2.5  1260759144\n",
              "1       1     1029     3.0  1260759179\n",
              "2       1     1061     3.0  1260759182\n",
              "3       1     1129     2.0  1260759185\n",
              "4       1     1172     4.0  1260759205"
            ]
          },
          "execution_count": 2,
          "metadata": {},
          "output_type": "execute_result"
        }
      ],
      "source": [
        "# Read in data\n",
        "ratings=pd.read_csv('ratings_small.csv')\n",
        "\n",
        "# Take a look at the data\n",
        "ratings.head()"
      ]
    },
    {
      "cell_type": "markdown",
      "metadata": {
        "id": "ypyk6KHMI8XJ"
      },
      "source": [
        "There are four columns in the ratings dataset, userID, movieID, rating, and timestamp.\n",
        "\n",
        "The dataset has over 100k records, and there is no missing data."
      ]
    },
    {
      "cell_type": "code",
      "execution_count": 3,
      "metadata": {
        "colab": {
          "base_uri": "https://localhost:8080/"
        },
        "id": "LKgfhxylIcdq",
        "outputId": "8edff024-0af7-447c-a59f-85fdc8a4bc82"
      },
      "outputs": [
        {
          "name": "stdout",
          "output_type": "stream",
          "text": [
            "<class 'pandas.core.frame.DataFrame'>\n",
            "RangeIndex: 100004 entries, 0 to 100003\n",
            "Data columns (total 4 columns):\n",
            " #   Column     Non-Null Count   Dtype  \n",
            "---  ------     --------------   -----  \n",
            " 0   userId     100004 non-null  int64  \n",
            " 1   movieId    100004 non-null  int64  \n",
            " 2   rating     100004 non-null  float64\n",
            " 3   timestamp  100004 non-null  int64  \n",
            "dtypes: float64(1), int64(3)\n",
            "memory usage: 3.1 MB\n"
          ]
        }
      ],
      "source": [
        "# Get the dataset information\n",
        "ratings.info()"
      ]
    },
    {
      "cell_type": "markdown",
      "metadata": {},
      "source": [
        "Data summary"
      ]
    },
    {
      "cell_type": "code",
      "execution_count": 4,
      "metadata": {
        "colab": {
          "base_uri": "https://localhost:8080/"
        },
        "id": "mU6QYpBNIm3e",
        "outputId": "e557d68c-cea4-4952-c7d3-7512a521dc45"
      },
      "outputs": [
        {
          "name": "stdout",
          "output_type": "stream",
          "text": [
            "The ratings dataset has 671 unique users\n",
            "The ratings dataset has 9066 unique movies\n",
            "The ratings dataset has 10 unique ratings\n",
            "The unique ratings are [0.5, 1.0, 1.5, 2.0, 2.5, 3.0, 3.5, 4.0, 4.5, 5.0]\n"
          ]
        }
      ],
      "source": [
        "# Number of users\n",
        "print('The ratings dataset has', ratings['userId'].nunique(), 'unique users')\n",
        "\n",
        "# Number of movies\n",
        "print('The ratings dataset has', ratings['movieId'].nunique(), 'unique movies')\n",
        "\n",
        "# Number of ratings\n",
        "print('The ratings dataset has', ratings['rating'].nunique(), 'unique ratings')\n",
        "\n",
        "# List of unique ratings\n",
        "print('The unique ratings are', sorted(ratings['rating'].unique()))"
      ]
    },
    {
      "cell_type": "markdown",
      "metadata": {
        "id": "0e14-64CL-Wy"
      },
      "source": [
        "Next, let's read in the movies data to get the movie names.\n",
        "\n",
        "The movies dataset has movieID, title, and genres."
      ]
    },
    {
      "cell_type": "code",
      "execution_count": 5,
      "metadata": {
        "colab": {
          "base_uri": "https://localhost:8080/",
          "height": 206
        },
        "id": "5MioG60zKXa_",
        "outputId": "a990a747-60b4-4bc5-c233-0c3896368178"
      },
      "outputs": [
        {
          "data": {
            "text/html": [
              "<div>\n",
              "<style scoped>\n",
              "    .dataframe tbody tr th:only-of-type {\n",
              "        vertical-align: middle;\n",
              "    }\n",
              "\n",
              "    .dataframe tbody tr th {\n",
              "        vertical-align: top;\n",
              "    }\n",
              "\n",
              "    .dataframe thead th {\n",
              "        text-align: right;\n",
              "    }\n",
              "</style>\n",
              "<table border=\"1\" class=\"dataframe\">\n",
              "  <thead>\n",
              "    <tr style=\"text-align: right;\">\n",
              "      <th></th>\n",
              "      <th>movieId</th>\n",
              "      <th>title</th>\n",
              "      <th>genres</th>\n",
              "    </tr>\n",
              "  </thead>\n",
              "  <tbody>\n",
              "    <tr>\n",
              "      <th>0</th>\n",
              "      <td>1</td>\n",
              "      <td>Toy Story (1995)</td>\n",
              "      <td>Adventure|Animation|Children|Comedy|Fantasy</td>\n",
              "    </tr>\n",
              "    <tr>\n",
              "      <th>1</th>\n",
              "      <td>2</td>\n",
              "      <td>Jumanji (1995)</td>\n",
              "      <td>Adventure|Children|Fantasy</td>\n",
              "    </tr>\n",
              "    <tr>\n",
              "      <th>2</th>\n",
              "      <td>3</td>\n",
              "      <td>Grumpier Old Men (1995)</td>\n",
              "      <td>Comedy|Romance</td>\n",
              "    </tr>\n",
              "    <tr>\n",
              "      <th>3</th>\n",
              "      <td>4</td>\n",
              "      <td>Waiting to Exhale (1995)</td>\n",
              "      <td>Comedy|Drama|Romance</td>\n",
              "    </tr>\n",
              "    <tr>\n",
              "      <th>4</th>\n",
              "      <td>5</td>\n",
              "      <td>Father of the Bride Part II (1995)</td>\n",
              "      <td>Comedy</td>\n",
              "    </tr>\n",
              "  </tbody>\n",
              "</table>\n",
              "</div>"
            ],
            "text/plain": [
              "   movieId                               title  \\\n",
              "0        1                    Toy Story (1995)   \n",
              "1        2                      Jumanji (1995)   \n",
              "2        3             Grumpier Old Men (1995)   \n",
              "3        4            Waiting to Exhale (1995)   \n",
              "4        5  Father of the Bride Part II (1995)   \n",
              "\n",
              "                                        genres  \n",
              "0  Adventure|Animation|Children|Comedy|Fantasy  \n",
              "1                   Adventure|Children|Fantasy  \n",
              "2                               Comedy|Romance  \n",
              "3                         Comedy|Drama|Romance  \n",
              "4                                       Comedy  "
            ]
          },
          "execution_count": 5,
          "metadata": {},
          "output_type": "execute_result"
        }
      ],
      "source": [
        "# Read in data\n",
        "movies = pd.read_csv('movie.csv')\n",
        "\n",
        "# Take a look at the data\n",
        "movies.head()"
      ]
    },
    {
      "cell_type": "markdown",
      "metadata": {
        "id": "ojUlI_KXPx3T"
      },
      "source": [
        "Using `movieID` as the matching key, we appended movie information to the rating dataset and named it `df`. So now we have the movie tile and movie rating in the same dataset!\n"
      ]
    },
    {
      "cell_type": "code",
      "execution_count": 6,
      "metadata": {
        "colab": {
          "base_uri": "https://localhost:8080/",
          "height": 206
        },
        "id": "SFKBfIl5P8PG",
        "outputId": "489e6b2c-d44e-448d-f9a3-dabfad6e47cd"
      },
      "outputs": [
        {
          "data": {
            "text/html": [
              "<div>\n",
              "<style scoped>\n",
              "    .dataframe tbody tr th:only-of-type {\n",
              "        vertical-align: middle;\n",
              "    }\n",
              "\n",
              "    .dataframe tbody tr th {\n",
              "        vertical-align: top;\n",
              "    }\n",
              "\n",
              "    .dataframe thead th {\n",
              "        text-align: right;\n",
              "    }\n",
              "</style>\n",
              "<table border=\"1\" class=\"dataframe\">\n",
              "  <thead>\n",
              "    <tr style=\"text-align: right;\">\n",
              "      <th></th>\n",
              "      <th>userId</th>\n",
              "      <th>movieId</th>\n",
              "      <th>rating</th>\n",
              "      <th>timestamp</th>\n",
              "      <th>title</th>\n",
              "      <th>genres</th>\n",
              "    </tr>\n",
              "  </thead>\n",
              "  <tbody>\n",
              "    <tr>\n",
              "      <th>0</th>\n",
              "      <td>1</td>\n",
              "      <td>31</td>\n",
              "      <td>2.5</td>\n",
              "      <td>1260759144</td>\n",
              "      <td>Dangerous Minds (1995)</td>\n",
              "      <td>Drama</td>\n",
              "    </tr>\n",
              "    <tr>\n",
              "      <th>1</th>\n",
              "      <td>7</td>\n",
              "      <td>31</td>\n",
              "      <td>3.0</td>\n",
              "      <td>851868750</td>\n",
              "      <td>Dangerous Minds (1995)</td>\n",
              "      <td>Drama</td>\n",
              "    </tr>\n",
              "    <tr>\n",
              "      <th>2</th>\n",
              "      <td>31</td>\n",
              "      <td>31</td>\n",
              "      <td>4.0</td>\n",
              "      <td>1273541953</td>\n",
              "      <td>Dangerous Minds (1995)</td>\n",
              "      <td>Drama</td>\n",
              "    </tr>\n",
              "    <tr>\n",
              "      <th>3</th>\n",
              "      <td>32</td>\n",
              "      <td>31</td>\n",
              "      <td>4.0</td>\n",
              "      <td>834828440</td>\n",
              "      <td>Dangerous Minds (1995)</td>\n",
              "      <td>Drama</td>\n",
              "    </tr>\n",
              "    <tr>\n",
              "      <th>4</th>\n",
              "      <td>36</td>\n",
              "      <td>31</td>\n",
              "      <td>3.0</td>\n",
              "      <td>847057202</td>\n",
              "      <td>Dangerous Minds (1995)</td>\n",
              "      <td>Drama</td>\n",
              "    </tr>\n",
              "    <tr>\n",
              "      <th>...</th>\n",
              "      <td>...</td>\n",
              "      <td>...</td>\n",
              "      <td>...</td>\n",
              "      <td>...</td>\n",
              "      <td>...</td>\n",
              "      <td>...</td>\n",
              "    </tr>\n",
              "    <tr>\n",
              "      <th>99338</th>\n",
              "      <td>664</td>\n",
              "      <td>64997</td>\n",
              "      <td>2.5</td>\n",
              "      <td>1343761859</td>\n",
              "      <td>War of the Worlds (2005)</td>\n",
              "      <td>Action|Sci-Fi</td>\n",
              "    </tr>\n",
              "    <tr>\n",
              "      <th>99339</th>\n",
              "      <td>664</td>\n",
              "      <td>72380</td>\n",
              "      <td>3.5</td>\n",
              "      <td>1344435977</td>\n",
              "      <td>Box, The (2009)</td>\n",
              "      <td>Drama|Horror|Mystery|Sci-Fi|Thriller</td>\n",
              "    </tr>\n",
              "    <tr>\n",
              "      <th>99340</th>\n",
              "      <td>665</td>\n",
              "      <td>129</td>\n",
              "      <td>3.0</td>\n",
              "      <td>995232528</td>\n",
              "      <td>Pie in the Sky (1996)</td>\n",
              "      <td>Comedy|Romance</td>\n",
              "    </tr>\n",
              "    <tr>\n",
              "      <th>99341</th>\n",
              "      <td>665</td>\n",
              "      <td>4736</td>\n",
              "      <td>1.0</td>\n",
              "      <td>1010197684</td>\n",
              "      <td>Summer Catch (2001)</td>\n",
              "      <td>Comedy|Romance</td>\n",
              "    </tr>\n",
              "    <tr>\n",
              "      <th>99342</th>\n",
              "      <td>668</td>\n",
              "      <td>6425</td>\n",
              "      <td>1.0</td>\n",
              "      <td>993613478</td>\n",
              "      <td>6th Man, The (Sixth Man, The) (1997)</td>\n",
              "      <td>Comedy</td>\n",
              "    </tr>\n",
              "  </tbody>\n",
              "</table>\n",
              "<p>99343 rows × 6 columns</p>\n",
              "</div>"
            ],
            "text/plain": [
              "       userId  movieId  rating   timestamp  \\\n",
              "0           1       31     2.5  1260759144   \n",
              "1           7       31     3.0   851868750   \n",
              "2          31       31     4.0  1273541953   \n",
              "3          32       31     4.0   834828440   \n",
              "4          36       31     3.0   847057202   \n",
              "...       ...      ...     ...         ...   \n",
              "99338     664    64997     2.5  1343761859   \n",
              "99339     664    72380     3.5  1344435977   \n",
              "99340     665      129     3.0   995232528   \n",
              "99341     665     4736     1.0  1010197684   \n",
              "99342     668     6425     1.0   993613478   \n",
              "\n",
              "                                      title  \\\n",
              "0                    Dangerous Minds (1995)   \n",
              "1                    Dangerous Minds (1995)   \n",
              "2                    Dangerous Minds (1995)   \n",
              "3                    Dangerous Minds (1995)   \n",
              "4                    Dangerous Minds (1995)   \n",
              "...                                     ...   \n",
              "99338              War of the Worlds (2005)   \n",
              "99339                       Box, The (2009)   \n",
              "99340                 Pie in the Sky (1996)   \n",
              "99341                   Summer Catch (2001)   \n",
              "99342  6th Man, The (Sixth Man, The) (1997)   \n",
              "\n",
              "                                     genres  \n",
              "0                                     Drama  \n",
              "1                                     Drama  \n",
              "2                                     Drama  \n",
              "3                                     Drama  \n",
              "4                                     Drama  \n",
              "...                                     ...  \n",
              "99338                         Action|Sci-Fi  \n",
              "99339  Drama|Horror|Mystery|Sci-Fi|Thriller  \n",
              "99340                        Comedy|Romance  \n",
              "99341                        Comedy|Romance  \n",
              "99342                                Comedy  \n",
              "\n",
              "[99343 rows x 6 columns]"
            ]
          },
          "execution_count": 6,
          "metadata": {},
          "output_type": "execute_result"
        }
      ],
      "source": [
        "# Merge ratings and movies datasets\n",
        "df = pd.merge(ratings, movies, on='movieId', how='inner')\n",
        "\n",
        "# Take a look at the data\n",
        "df"
      ]
    },
    {
      "cell_type": "markdown",
      "metadata": {
        "id": "e3OdutCvPDws"
      },
      "source": [
        "## Step 3: Exploratory Data Analysis (EDA)"
      ]
    },
    {
      "cell_type": "markdown",
      "metadata": {
        "id": "O9RqCaSl0VOZ"
      },
      "source": [
        "In step 3, we are filtering the movies and keep only those with over 4 ratings for the analysis."
      ]
    },
    {
      "cell_type": "code",
      "execution_count": 170,
      "metadata": {
        "colab": {
          "base_uri": "https://localhost:8080/"
        },
        "id": "u0EPqtPs1NpB",
        "outputId": "918a3827-355d-4be6-a1e0-947cbdc21a03"
      },
      "outputs": [
        {
          "name": "stdout",
          "output_type": "stream",
          "text": [
            "<class 'pandas.core.frame.DataFrame'>\n",
            "Int64Index: 444 entries, 15 to 8737\n",
            "Data columns (total 3 columns):\n",
            " #   Column             Non-Null Count  Dtype  \n",
            "---  ------             --------------  -----  \n",
            " 0   title              444 non-null    object \n",
            " 1   mean_rating        444 non-null    float64\n",
            " 2   number_of_ratings  444 non-null    int64  \n",
            "dtypes: float64(1), int64(1), object(1)\n",
            "memory usage: 13.9+ KB\n"
          ]
        }
      ],
      "source": [
        "# Aggregate by movie\n",
        "agg_ratings = df.groupby('title').agg(mean_rating = ('rating', 'mean'),\n",
        "                                                number_of_ratings = ('rating', 'count')).reset_index()\n",
        "\n",
        "# Keep the movies with over 100 ratings\n",
        "agg_ratings_GT50 = agg_ratings[agg_ratings['number_of_ratings']>50]\n",
        "\n",
        "# Check the information of the dataframe\n",
        "agg_ratings_GT50.info()"
      ]
    },
    {
      "cell_type": "markdown",
      "metadata": {
        "id": "7Ug05NNFQqwN"
      },
      "source": [
        "Let's check what the most popular movies and their ratings are."
      ]
    },
    {
      "cell_type": "code",
      "execution_count": 171,
      "metadata": {
        "colab": {
          "base_uri": "https://localhost:8080/",
          "height": 206
        },
        "id": "H6qAvnu2r7YQ",
        "outputId": "3c01d965-7ad6-4df5-d0ba-dac187d99ed9"
      },
      "outputs": [
        {
          "data": {
            "text/html": [
              "<div>\n",
              "<style scoped>\n",
              "    .dataframe tbody tr th:only-of-type {\n",
              "        vertical-align: middle;\n",
              "    }\n",
              "\n",
              "    .dataframe tbody tr th {\n",
              "        vertical-align: top;\n",
              "    }\n",
              "\n",
              "    .dataframe thead th {\n",
              "        text-align: right;\n",
              "    }\n",
              "</style>\n",
              "<table border=\"1\" class=\"dataframe\">\n",
              "  <thead>\n",
              "    <tr style=\"text-align: right;\">\n",
              "      <th></th>\n",
              "      <th>title</th>\n",
              "      <th>mean_rating</th>\n",
              "      <th>number_of_ratings</th>\n",
              "    </tr>\n",
              "  </thead>\n",
              "  <tbody>\n",
              "    <tr>\n",
              "      <th>2874</th>\n",
              "      <td>Forrest Gump (1994)</td>\n",
              "      <td>4.054252</td>\n",
              "      <td>341</td>\n",
              "    </tr>\n",
              "    <tr>\n",
              "      <th>6262</th>\n",
              "      <td>Pulp Fiction (1994)</td>\n",
              "      <td>4.256173</td>\n",
              "      <td>324</td>\n",
              "    </tr>\n",
              "    <tr>\n",
              "      <th>6941</th>\n",
              "      <td>Shawshank Redemption, The (1994)</td>\n",
              "      <td>4.487138</td>\n",
              "      <td>311</td>\n",
              "    </tr>\n",
              "    <tr>\n",
              "      <th>7020</th>\n",
              "      <td>Silence of the Lambs, The (1991)</td>\n",
              "      <td>4.138158</td>\n",
              "      <td>304</td>\n",
              "    </tr>\n",
              "    <tr>\n",
              "      <th>7336</th>\n",
              "      <td>Star Wars: Episode IV - A New Hope (1977)</td>\n",
              "      <td>4.221649</td>\n",
              "      <td>291</td>\n",
              "    </tr>\n",
              "    <tr>\n",
              "      <th>...</th>\n",
              "      <td>...</td>\n",
              "      <td>...</td>\n",
              "      <td>...</td>\n",
              "    </tr>\n",
              "    <tr>\n",
              "      <th>1138</th>\n",
              "      <td>Bowfinger (1999)</td>\n",
              "      <td>3.068627</td>\n",
              "      <td>51</td>\n",
              "    </tr>\n",
              "    <tr>\n",
              "      <th>5115</th>\n",
              "      <td>Mighty Aphrodite (1995)</td>\n",
              "      <td>3.637255</td>\n",
              "      <td>51</td>\n",
              "    </tr>\n",
              "    <tr>\n",
              "      <th>4139</th>\n",
              "      <td>Jerk, The (1979)</td>\n",
              "      <td>3.696078</td>\n",
              "      <td>51</td>\n",
              "    </tr>\n",
              "    <tr>\n",
              "      <th>950</th>\n",
              "      <td>Birds, The (1963)</td>\n",
              "      <td>3.754902</td>\n",
              "      <td>51</td>\n",
              "    </tr>\n",
              "    <tr>\n",
              "      <th>1109</th>\n",
              "      <td>Boot, Das (Boat, The) (1981)</td>\n",
              "      <td>4.166667</td>\n",
              "      <td>51</td>\n",
              "    </tr>\n",
              "  </tbody>\n",
              "</table>\n",
              "<p>444 rows × 3 columns</p>\n",
              "</div>"
            ],
            "text/plain": [
              "                                          title  mean_rating  \\\n",
              "2874                        Forrest Gump (1994)     4.054252   \n",
              "6262                        Pulp Fiction (1994)     4.256173   \n",
              "6941           Shawshank Redemption, The (1994)     4.487138   \n",
              "7020           Silence of the Lambs, The (1991)     4.138158   \n",
              "7336  Star Wars: Episode IV - A New Hope (1977)     4.221649   \n",
              "...                                         ...          ...   \n",
              "1138                           Bowfinger (1999)     3.068627   \n",
              "5115                    Mighty Aphrodite (1995)     3.637255   \n",
              "4139                           Jerk, The (1979)     3.696078   \n",
              "950                           Birds, The (1963)     3.754902   \n",
              "1109               Boot, Das (Boat, The) (1981)     4.166667   \n",
              "\n",
              "      number_of_ratings  \n",
              "2874                341  \n",
              "6262                324  \n",
              "6941                311  \n",
              "7020                304  \n",
              "7336                291  \n",
              "...                 ...  \n",
              "1138                 51  \n",
              "5115                 51  \n",
              "4139                 51  \n",
              "950                  51  \n",
              "1109                 51  \n",
              "\n",
              "[444 rows x 3 columns]"
            ]
          },
          "execution_count": 171,
          "metadata": {},
          "output_type": "execute_result"
        }
      ],
      "source": [
        "# Check popular movies\n",
        "agg_ratings_GT50.sort_values(by='number_of_ratings', ascending=False)"
      ]
    },
    {
      "cell_type": "markdown",
      "metadata": {
        "id": "rGeC-fn7uOcR"
      },
      "source": [
        "Next, let's use a `jointplot` to check the correlation between the average rating and the number of ratings.\n",
        "\n",
        "We can see an upward trend from the scatter plot, showing that popular movies get higher ratings.\n",
        "\n",
        "The average rating distribution shows that most movies in the dataset have an average rating of around 4.\n",
        "\n",
        "The number of rating distribution shows that most movies have less than 150 ratings."
      ]
    },
    {
      "cell_type": "code",
      "execution_count": 172,
      "metadata": {
        "colab": {
          "base_uri": "https://localhost:8080/",
          "height": 458
        },
        "id": "-aOVhLD8NcO7",
        "outputId": "261b0d3c-fba8-49e2-97c0-914b2f0575a6"
      },
      "outputs": [
        {
          "data": {
            "text/plain": [
              "<seaborn.axisgrid.JointGrid at 0x261a43ef310>"
            ]
          },
          "execution_count": 172,
          "metadata": {},
          "output_type": "execute_result"
        },
        {
          "data": {
            "image/png": "[encoded data removed]",
            "text/plain": [
              "<Figure size 600x600 with 3 Axes>"
            ]
          },
          "metadata": {},
          "output_type": "display_data"
        }
      ],
      "source": [
        "# Visulization\n",
        "sns.jointplot(x='mean_rating', y='number_of_ratings', data=agg_ratings_GT50)"
      ]
    },
    {
      "cell_type": "code",
      "execution_count": 173,
      "metadata": {
        "colab": {
          "base_uri": "https://localhost:8080/"
        },
        "id": "DjBAkBqL1coX",
        "outputId": "e0579636-8180-406b-c859-227f99ca1272"
      },
      "outputs": [
        {
          "name": "stdout",
          "output_type": "stream",
          "text": [
            "<class 'pandas.core.frame.DataFrame'>\n",
            "Int64Index: 42633 entries, 0 to 42632\n",
            "Data columns (total 6 columns):\n",
            " #   Column     Non-Null Count  Dtype  \n",
            "---  ------     --------------  -----  \n",
            " 0   userId     42633 non-null  int64  \n",
            " 1   movieId    42633 non-null  int64  \n",
            " 2   rating     42633 non-null  float64\n",
            " 3   timestamp  42633 non-null  int64  \n",
            " 4   title      42633 non-null  object \n",
            " 5   genres     42633 non-null  object \n",
            "dtypes: float64(1), int64(3), object(2)\n",
            "memory usage: 2.3+ MB\n"
          ]
        }
      ],
      "source": [
        "# Merge data\n",
        "df_GT100 = pd.merge(df, agg_ratings_GT50[['title']], on='title', how='inner')\n",
        "df_GT100.info()"
      ]
    },
    {
      "cell_type": "markdown",
      "metadata": {
        "id": "2zMd7DpI0IAD"
      },
      "source": [
        "After filtering the movies with over 100 ratings, we have 597 users that rated 134 movies."
      ]
    },
    {
      "cell_type": "code",
      "execution_count": 174,
      "metadata": {
        "colab": {
          "base_uri": "https://localhost:8080/"
        },
        "id": "c4sOcbQLJkpH",
        "outputId": "787022cd-3fc2-41ce-f802-372c57906956"
      },
      "outputs": [
        {
          "name": "stdout",
          "output_type": "stream",
          "text": [
            "The ratings dataset has 670 unique users\n",
            "The ratings dataset has 444 unique movies\n",
            "The ratings dataset has 10 unique ratings\n",
            "The unique ratings are [0.5, 1.0, 1.5, 2.0, 2.5, 3.0, 3.5, 4.0, 4.5, 5.0]\n"
          ]
        }
      ],
      "source": [
        "# Number of users\n",
        "print('The ratings dataset has', df_GT100['userId'].nunique(), 'unique users')\n",
        "\n",
        "# Number of movies\n",
        "print('The ratings dataset has', df_GT100['movieId'].nunique(), 'unique movies')\n",
        "\n",
        "# Number of ratings\n",
        "print('The ratings dataset has', df_GT100['rating'].nunique(), 'unique ratings')\n",
        "\n",
        "# List of unique ratings\n",
        "print('The unique ratings are', sorted(df_GT100['rating'].unique()))"
      ]
    },
    {
      "cell_type": "markdown",
      "metadata": {
        "id": "c5MS5A5mrWDb"
      },
      "source": [
        "## Step 4: Create User-Movie Matrix"
      ]
    },
    {
      "cell_type": "markdown",
      "metadata": {
        "id": "pVfNEoBGGBkT"
      },
      "source": [
        "In step 4, we will transform the dataset into a matrix format. The rows of the matrix are movies, and the columns of the matrix are users. The value of the matrix is the user rating of the movie if there is a rating. Otherwise, it shows 'NaN'."
      ]
    },
    {
      "cell_type": "code",
      "execution_count": 175,
      "metadata": {
        "colab": {
          "base_uri": "https://localhost:8080/",
          "height": 504
        },
        "id": "KySPgXj6wRmh",
        "outputId": "397978f3-b4ba-4704-9c55-f2452b83b5af"
      },
      "outputs": [
        {
          "data": {
            "text/html": [
              "<div>\n",
              "<style scoped>\n",
              "    .dataframe tbody tr th:only-of-type {\n",
              "        vertical-align: middle;\n",
              "    }\n",
              "\n",
              "    .dataframe tbody tr th {\n",
              "        vertical-align: top;\n",
              "    }\n",
              "\n",
              "    .dataframe thead th {\n",
              "        text-align: right;\n",
              "    }\n",
              "</style>\n",
              "<table border=\"1\" class=\"dataframe\">\n",
              "  <thead>\n",
              "    <tr style=\"text-align: right;\">\n",
              "      <th>userId</th>\n",
              "      <th>1</th>\n",
              "      <th>2</th>\n",
              "      <th>3</th>\n",
              "      <th>4</th>\n",
              "      <th>5</th>\n",
              "      <th>6</th>\n",
              "      <th>7</th>\n",
              "      <th>8</th>\n",
              "      <th>9</th>\n",
              "      <th>10</th>\n",
              "      <th>...</th>\n",
              "      <th>662</th>\n",
              "      <th>663</th>\n",
              "      <th>664</th>\n",
              "      <th>665</th>\n",
              "      <th>666</th>\n",
              "      <th>667</th>\n",
              "      <th>668</th>\n",
              "      <th>669</th>\n",
              "      <th>670</th>\n",
              "      <th>671</th>\n",
              "    </tr>\n",
              "    <tr>\n",
              "      <th>title</th>\n",
              "      <th></th>\n",
              "      <th></th>\n",
              "      <th></th>\n",
              "      <th></th>\n",
              "      <th></th>\n",
              "      <th></th>\n",
              "      <th></th>\n",
              "      <th></th>\n",
              "      <th></th>\n",
              "      <th></th>\n",
              "      <th></th>\n",
              "      <th></th>\n",
              "      <th></th>\n",
              "      <th></th>\n",
              "      <th></th>\n",
              "      <th></th>\n",
              "      <th></th>\n",
              "      <th></th>\n",
              "      <th></th>\n",
              "      <th></th>\n",
              "      <th></th>\n",
              "    </tr>\n",
              "  </thead>\n",
              "  <tbody>\n",
              "    <tr>\n",
              "      <th>10 Things I Hate About You (1999)</th>\n",
              "      <td>NaN</td>\n",
              "      <td>NaN</td>\n",
              "      <td>NaN</td>\n",
              "      <td>NaN</td>\n",
              "      <td>NaN</td>\n",
              "      <td>NaN</td>\n",
              "      <td>NaN</td>\n",
              "      <td>NaN</td>\n",
              "      <td>NaN</td>\n",
              "      <td>NaN</td>\n",
              "      <td>...</td>\n",
              "      <td>NaN</td>\n",
              "      <td>NaN</td>\n",
              "      <td>NaN</td>\n",
              "      <td>3.0</td>\n",
              "      <td>NaN</td>\n",
              "      <td>NaN</td>\n",
              "      <td>NaN</td>\n",
              "      <td>NaN</td>\n",
              "      <td>NaN</td>\n",
              "      <td>NaN</td>\n",
              "    </tr>\n",
              "    <tr>\n",
              "      <th>12 Angry Men (1957)</th>\n",
              "      <td>NaN</td>\n",
              "      <td>NaN</td>\n",
              "      <td>NaN</td>\n",
              "      <td>NaN</td>\n",
              "      <td>NaN</td>\n",
              "      <td>NaN</td>\n",
              "      <td>NaN</td>\n",
              "      <td>NaN</td>\n",
              "      <td>NaN</td>\n",
              "      <td>NaN</td>\n",
              "      <td>...</td>\n",
              "      <td>NaN</td>\n",
              "      <td>NaN</td>\n",
              "      <td>NaN</td>\n",
              "      <td>NaN</td>\n",
              "      <td>NaN</td>\n",
              "      <td>NaN</td>\n",
              "      <td>NaN</td>\n",
              "      <td>NaN</td>\n",
              "      <td>NaN</td>\n",
              "      <td>NaN</td>\n",
              "    </tr>\n",
              "    <tr>\n",
              "      <th>2001: A Space Odyssey (1968)</th>\n",
              "      <td>NaN</td>\n",
              "      <td>NaN</td>\n",
              "      <td>NaN</td>\n",
              "      <td>NaN</td>\n",
              "      <td>NaN</td>\n",
              "      <td>NaN</td>\n",
              "      <td>4.0</td>\n",
              "      <td>NaN</td>\n",
              "      <td>NaN</td>\n",
              "      <td>NaN</td>\n",
              "      <td>...</td>\n",
              "      <td>NaN</td>\n",
              "      <td>NaN</td>\n",
              "      <td>4.0</td>\n",
              "      <td>NaN</td>\n",
              "      <td>NaN</td>\n",
              "      <td>NaN</td>\n",
              "      <td>NaN</td>\n",
              "      <td>NaN</td>\n",
              "      <td>NaN</td>\n",
              "      <td>NaN</td>\n",
              "    </tr>\n",
              "    <tr>\n",
              "      <th>28 Days Later (2002)</th>\n",
              "      <td>NaN</td>\n",
              "      <td>NaN</td>\n",
              "      <td>NaN</td>\n",
              "      <td>NaN</td>\n",
              "      <td>4.0</td>\n",
              "      <td>NaN</td>\n",
              "      <td>NaN</td>\n",
              "      <td>NaN</td>\n",
              "      <td>NaN</td>\n",
              "      <td>NaN</td>\n",
              "      <td>...</td>\n",
              "      <td>NaN</td>\n",
              "      <td>NaN</td>\n",
              "      <td>NaN</td>\n",
              "      <td>NaN</td>\n",
              "      <td>NaN</td>\n",
              "      <td>NaN</td>\n",
              "      <td>NaN</td>\n",
              "      <td>NaN</td>\n",
              "      <td>NaN</td>\n",
              "      <td>NaN</td>\n",
              "    </tr>\n",
              "    <tr>\n",
              "      <th>300 (2007)</th>\n",
              "      <td>NaN</td>\n",
              "      <td>NaN</td>\n",
              "      <td>NaN</td>\n",
              "      <td>NaN</td>\n",
              "      <td>NaN</td>\n",
              "      <td>NaN</td>\n",
              "      <td>NaN</td>\n",
              "      <td>NaN</td>\n",
              "      <td>NaN</td>\n",
              "      <td>NaN</td>\n",
              "      <td>...</td>\n",
              "      <td>NaN</td>\n",
              "      <td>NaN</td>\n",
              "      <td>4.0</td>\n",
              "      <td>NaN</td>\n",
              "      <td>NaN</td>\n",
              "      <td>NaN</td>\n",
              "      <td>NaN</td>\n",
              "      <td>NaN</td>\n",
              "      <td>NaN</td>\n",
              "      <td>NaN</td>\n",
              "    </tr>\n",
              "  </tbody>\n",
              "</table>\n",
              "<p>5 rows × 670 columns</p>\n",
              "</div>"
            ],
            "text/plain": [
              "userId                             1    2    3    4    5    6    7    8    \\\n",
              "title                                                                       \n",
              "10 Things I Hate About You (1999)  NaN  NaN  NaN  NaN  NaN  NaN  NaN  NaN   \n",
              "12 Angry Men (1957)                NaN  NaN  NaN  NaN  NaN  NaN  NaN  NaN   \n",
              "2001: A Space Odyssey (1968)       NaN  NaN  NaN  NaN  NaN  NaN  4.0  NaN   \n",
              "28 Days Later (2002)               NaN  NaN  NaN  NaN  4.0  NaN  NaN  NaN   \n",
              "300 (2007)                         NaN  NaN  NaN  NaN  NaN  NaN  NaN  NaN   \n",
              "\n",
              "userId                             9    10   ...  662  663  664  665  666  \\\n",
              "title                                        ...                            \n",
              "10 Things I Hate About You (1999)  NaN  NaN  ...  NaN  NaN  NaN  3.0  NaN   \n",
              "12 Angry Men (1957)                NaN  NaN  ...  NaN  NaN  NaN  NaN  NaN   \n",
              "2001: A Space Odyssey (1968)       NaN  NaN  ...  NaN  NaN  4.0  NaN  NaN   \n",
              "28 Days Later (2002)               NaN  NaN  ...  NaN  NaN  NaN  NaN  NaN   \n",
              "300 (2007)                         NaN  NaN  ...  NaN  NaN  4.0  NaN  NaN   \n",
              "\n",
              "userId                             667  668  669  670  671  \n",
              "title                                                       \n",
              "10 Things I Hate About You (1999)  NaN  NaN  NaN  NaN  NaN  \n",
              "12 Angry Men (1957)                NaN  NaN  NaN  NaN  NaN  \n",
              "2001: A Space Odyssey (1968)       NaN  NaN  NaN  NaN  NaN  \n",
              "28 Days Later (2002)               NaN  NaN  NaN  NaN  NaN  \n",
              "300 (2007)                         NaN  NaN  NaN  NaN  NaN  \n",
              "\n",
              "[5 rows x 670 columns]"
            ]
          },
          "execution_count": 175,
          "metadata": {},
          "output_type": "execute_result"
        }
      ],
      "source": [
        "# Create user-item matrix\n",
        "matrix = df_GT100.pivot_table(index='title', columns='userId', values='rating')\n",
        "matrix.head()"
      ]
    },
    {
      "cell_type": "markdown",
      "metadata": {
        "id": "wuM7ChbWxXKY"
      },
      "source": [
        "## Step 5: Data Normalization"
      ]
    },
    {
      "cell_type": "markdown",
      "metadata": {
        "id": "DXMTp-zGHfTf"
      },
      "source": [
        "In Step 5, we will normalize the data by subtracting the average rating of each movie. The cosine similarity calculated based on the normalized data is called mean-centered cosine similarity.\n",
        "\n",
        "After normalization, the ratings less than the movie's average rating get a negative value, and the ratings more than the movie's average rating get a positive value."
      ]
    },
    {
      "cell_type": "code",
      "execution_count": 176,
      "metadata": {
        "colab": {
          "base_uri": "https://localhost:8080/",
          "height": 504
        },
        "id": "bouLA2wixGWT",
        "outputId": "b480aeff-bb1d-408d-fe82-f10fa26aca14"
      },
      "outputs": [
        {
          "data": {
            "text/html": [
              "<div>\n",
              "<style scoped>\n",
              "    .dataframe tbody tr th:only-of-type {\n",
              "        vertical-align: middle;\n",
              "    }\n",
              "\n",
              "    .dataframe tbody tr th {\n",
              "        vertical-align: top;\n",
              "    }\n",
              "\n",
              "    .dataframe thead th {\n",
              "        text-align: right;\n",
              "    }\n",
              "</style>\n",
              "<table border=\"1\" class=\"dataframe\">\n",
              "  <thead>\n",
              "    <tr style=\"text-align: right;\">\n",
              "      <th>userId</th>\n",
              "      <th>1</th>\n",
              "      <th>2</th>\n",
              "      <th>3</th>\n",
              "      <th>4</th>\n",
              "      <th>5</th>\n",
              "      <th>6</th>\n",
              "      <th>7</th>\n",
              "      <th>8</th>\n",
              "      <th>9</th>\n",
              "      <th>10</th>\n",
              "      <th>...</th>\n",
              "      <th>662</th>\n",
              "      <th>663</th>\n",
              "      <th>664</th>\n",
              "      <th>665</th>\n",
              "      <th>666</th>\n",
              "      <th>667</th>\n",
              "      <th>668</th>\n",
              "      <th>669</th>\n",
              "      <th>670</th>\n",
              "      <th>671</th>\n",
              "    </tr>\n",
              "    <tr>\n",
              "      <th>title</th>\n",
              "      <th></th>\n",
              "      <th></th>\n",
              "      <th></th>\n",
              "      <th></th>\n",
              "      <th></th>\n",
              "      <th></th>\n",
              "      <th></th>\n",
              "      <th></th>\n",
              "      <th></th>\n",
              "      <th></th>\n",
              "      <th></th>\n",
              "      <th></th>\n",
              "      <th></th>\n",
              "      <th></th>\n",
              "      <th></th>\n",
              "      <th></th>\n",
              "      <th></th>\n",
              "      <th></th>\n",
              "      <th></th>\n",
              "      <th></th>\n",
              "      <th></th>\n",
              "    </tr>\n",
              "  </thead>\n",
              "  <tbody>\n",
              "    <tr>\n",
              "      <th>10 Things I Hate About You (1999)</th>\n",
              "      <td>NaN</td>\n",
              "      <td>NaN</td>\n",
              "      <td>NaN</td>\n",
              "      <td>NaN</td>\n",
              "      <td>NaN</td>\n",
              "      <td>NaN</td>\n",
              "      <td>NaN</td>\n",
              "      <td>NaN</td>\n",
              "      <td>NaN</td>\n",
              "      <td>NaN</td>\n",
              "      <td>...</td>\n",
              "      <td>NaN</td>\n",
              "      <td>NaN</td>\n",
              "      <td>NaN</td>\n",
              "      <td>-0.473684</td>\n",
              "      <td>NaN</td>\n",
              "      <td>NaN</td>\n",
              "      <td>NaN</td>\n",
              "      <td>NaN</td>\n",
              "      <td>NaN</td>\n",
              "      <td>NaN</td>\n",
              "    </tr>\n",
              "    <tr>\n",
              "      <th>12 Angry Men (1957)</th>\n",
              "      <td>NaN</td>\n",
              "      <td>NaN</td>\n",
              "      <td>NaN</td>\n",
              "      <td>NaN</td>\n",
              "      <td>NaN</td>\n",
              "      <td>NaN</td>\n",
              "      <td>NaN</td>\n",
              "      <td>NaN</td>\n",
              "      <td>NaN</td>\n",
              "      <td>NaN</td>\n",
              "      <td>...</td>\n",
              "      <td>NaN</td>\n",
              "      <td>NaN</td>\n",
              "      <td>NaN</td>\n",
              "      <td>NaN</td>\n",
              "      <td>NaN</td>\n",
              "      <td>NaN</td>\n",
              "      <td>NaN</td>\n",
              "      <td>NaN</td>\n",
              "      <td>NaN</td>\n",
              "      <td>NaN</td>\n",
              "    </tr>\n",
              "    <tr>\n",
              "      <th>2001: A Space Odyssey (1968)</th>\n",
              "      <td>NaN</td>\n",
              "      <td>NaN</td>\n",
              "      <td>NaN</td>\n",
              "      <td>NaN</td>\n",
              "      <td>NaN</td>\n",
              "      <td>NaN</td>\n",
              "      <td>0.113821</td>\n",
              "      <td>NaN</td>\n",
              "      <td>NaN</td>\n",
              "      <td>NaN</td>\n",
              "      <td>...</td>\n",
              "      <td>NaN</td>\n",
              "      <td>NaN</td>\n",
              "      <td>0.113821</td>\n",
              "      <td>NaN</td>\n",
              "      <td>NaN</td>\n",
              "      <td>NaN</td>\n",
              "      <td>NaN</td>\n",
              "      <td>NaN</td>\n",
              "      <td>NaN</td>\n",
              "      <td>NaN</td>\n",
              "    </tr>\n",
              "    <tr>\n",
              "      <th>28 Days Later (2002)</th>\n",
              "      <td>NaN</td>\n",
              "      <td>NaN</td>\n",
              "      <td>NaN</td>\n",
              "      <td>NaN</td>\n",
              "      <td>0.192308</td>\n",
              "      <td>NaN</td>\n",
              "      <td>NaN</td>\n",
              "      <td>NaN</td>\n",
              "      <td>NaN</td>\n",
              "      <td>NaN</td>\n",
              "      <td>...</td>\n",
              "      <td>NaN</td>\n",
              "      <td>NaN</td>\n",
              "      <td>NaN</td>\n",
              "      <td>NaN</td>\n",
              "      <td>NaN</td>\n",
              "      <td>NaN</td>\n",
              "      <td>NaN</td>\n",
              "      <td>NaN</td>\n",
              "      <td>NaN</td>\n",
              "      <td>NaN</td>\n",
              "    </tr>\n",
              "    <tr>\n",
              "      <th>300 (2007)</th>\n",
              "      <td>NaN</td>\n",
              "      <td>NaN</td>\n",
              "      <td>NaN</td>\n",
              "      <td>NaN</td>\n",
              "      <td>NaN</td>\n",
              "      <td>NaN</td>\n",
              "      <td>NaN</td>\n",
              "      <td>NaN</td>\n",
              "      <td>NaN</td>\n",
              "      <td>NaN</td>\n",
              "      <td>...</td>\n",
              "      <td>NaN</td>\n",
              "      <td>NaN</td>\n",
              "      <td>0.440678</td>\n",
              "      <td>NaN</td>\n",
              "      <td>NaN</td>\n",
              "      <td>NaN</td>\n",
              "      <td>NaN</td>\n",
              "      <td>NaN</td>\n",
              "      <td>NaN</td>\n",
              "      <td>NaN</td>\n",
              "    </tr>\n",
              "  </tbody>\n",
              "</table>\n",
              "<p>5 rows × 670 columns</p>\n",
              "</div>"
            ],
            "text/plain": [
              "userId                             1    2    3    4         5    6    \\\n",
              "title                                                                  \n",
              "10 Things I Hate About You (1999)  NaN  NaN  NaN  NaN       NaN  NaN   \n",
              "12 Angry Men (1957)                NaN  NaN  NaN  NaN       NaN  NaN   \n",
              "2001: A Space Odyssey (1968)       NaN  NaN  NaN  NaN       NaN  NaN   \n",
              "28 Days Later (2002)               NaN  NaN  NaN  NaN  0.192308  NaN   \n",
              "300 (2007)                         NaN  NaN  NaN  NaN       NaN  NaN   \n",
              "\n",
              "userId                                  7    8    9    10   ...  662  663  \\\n",
              "title                                                       ...             \n",
              "10 Things I Hate About You (1999)       NaN  NaN  NaN  NaN  ...  NaN  NaN   \n",
              "12 Angry Men (1957)                     NaN  NaN  NaN  NaN  ...  NaN  NaN   \n",
              "2001: A Space Odyssey (1968)       0.113821  NaN  NaN  NaN  ...  NaN  NaN   \n",
              "28 Days Later (2002)                    NaN  NaN  NaN  NaN  ...  NaN  NaN   \n",
              "300 (2007)                              NaN  NaN  NaN  NaN  ...  NaN  NaN   \n",
              "\n",
              "userId                                  664       665  666  667  668  669  \\\n",
              "title                                                                       \n",
              "10 Things I Hate About You (1999)       NaN -0.473684  NaN  NaN  NaN  NaN   \n",
              "12 Angry Men (1957)                     NaN       NaN  NaN  NaN  NaN  NaN   \n",
              "2001: A Space Odyssey (1968)       0.113821       NaN  NaN  NaN  NaN  NaN   \n",
              "28 Days Later (2002)                    NaN       NaN  NaN  NaN  NaN  NaN   \n",
              "300 (2007)                         0.440678       NaN  NaN  NaN  NaN  NaN   \n",
              "\n",
              "userId                             670  671  \n",
              "title                                        \n",
              "10 Things I Hate About You (1999)  NaN  NaN  \n",
              "12 Angry Men (1957)                NaN  NaN  \n",
              "2001: A Space Odyssey (1968)       NaN  NaN  \n",
              "28 Days Later (2002)               NaN  NaN  \n",
              "300 (2007)                         NaN  NaN  \n",
              "\n",
              "[5 rows x 670 columns]"
            ]
          },
          "execution_count": 176,
          "metadata": {},
          "output_type": "execute_result"
        }
      ],
      "source": [
        "# Normalize user-item matrix\n",
        "matrix_norm = matrix.subtract(matrix.mean(axis=1), axis = 0)\n",
        "matrix_norm.head()"
      ]
    },
    {
      "cell_type": "markdown",
      "metadata": {
        "id": "PwU9xz1Q3sQl"
      },
      "source": [
        "## Step 6: Calculate Similarity Score"
      ]
    },
    {
      "cell_type": "markdown",
      "metadata": {
        "id": "jcGz5l_DJhoG"
      },
      "source": [
        "There are different ways to measure similarities. Pearson correlation and cosine similarity are two widely used methods.\n",
        "\n",
        "In this tutorial, we will calculate the item similarity matrix using Pearson correlation."
      ]
    },
    {
      "cell_type": "code",
      "execution_count": 177,
      "metadata": {
        "colab": {
          "base_uri": "https://localhost:8080/",
          "height": 678
        },
        "id": "1Zo4UEFWJVyt",
        "outputId": "4c514bb6-00f4-4191-937a-865e107a64f9"
      },
      "outputs": [
        {
          "data": {
            "text/html": [
              "<div>\n",
              "<style scoped>\n",
              "    .dataframe tbody tr th:only-of-type {\n",
              "        vertical-align: middle;\n",
              "    }\n",
              "\n",
              "    .dataframe tbody tr th {\n",
              "        vertical-align: top;\n",
              "    }\n",
              "\n",
              "    .dataframe thead th {\n",
              "        text-align: right;\n",
              "    }\n",
              "</style>\n",
              "<table border=\"1\" class=\"dataframe\">\n",
              "  <thead>\n",
              "    <tr style=\"text-align: right;\">\n",
              "      <th>title</th>\n",
              "      <th>10 Things I Hate About You (1999)</th>\n",
              "      <th>12 Angry Men (1957)</th>\n",
              "      <th>2001: A Space Odyssey (1968)</th>\n",
              "      <th>28 Days Later (2002)</th>\n",
              "      <th>300 (2007)</th>\n",
              "      <th>40-Year-Old Virgin, The (2005)</th>\n",
              "      <th>A.I. Artificial Intelligence (2001)</th>\n",
              "      <th>About a Boy (2002)</th>\n",
              "      <th>Abyss, The (1989)</th>\n",
              "      <th>Ace Ventura: Pet Detective (1994)</th>\n",
              "      <th>...</th>\n",
              "      <th>While You Were Sleeping (1995)</th>\n",
              "      <th>Who Framed Roger Rabbit? (1988)</th>\n",
              "      <th>William Shakespeare's Romeo + Juliet (1996)</th>\n",
              "      <th>Willy Wonka &amp; the Chocolate Factory (1971)</th>\n",
              "      <th>Witness (1985)</th>\n",
              "      <th>Wizard of Oz, The (1939)</th>\n",
              "      <th>X-Men (2000)</th>\n",
              "      <th>X2: X-Men United (2003)</th>\n",
              "      <th>You've Got Mail (1998)</th>\n",
              "      <th>Young Frankenstein (1974)</th>\n",
              "    </tr>\n",
              "    <tr>\n",
              "      <th>title</th>\n",
              "      <th></th>\n",
              "      <th></th>\n",
              "      <th></th>\n",
              "      <th></th>\n",
              "      <th></th>\n",
              "      <th></th>\n",
              "      <th></th>\n",
              "      <th></th>\n",
              "      <th></th>\n",
              "      <th></th>\n",
              "      <th></th>\n",
              "      <th></th>\n",
              "      <th></th>\n",
              "      <th></th>\n",
              "      <th></th>\n",
              "      <th></th>\n",
              "      <th></th>\n",
              "      <th></th>\n",
              "      <th></th>\n",
              "      <th></th>\n",
              "      <th></th>\n",
              "    </tr>\n",
              "  </thead>\n",
              "  <tbody>\n",
              "    <tr>\n",
              "      <th>10 Things I Hate About You (1999)</th>\n",
              "      <td>1.000000</td>\n",
              "      <td>-0.210149</td>\n",
              "      <td>0.222436</td>\n",
              "      <td>-0.068151</td>\n",
              "      <td>-0.104619</td>\n",
              "      <td>-0.385591</td>\n",
              "      <td>-0.365527</td>\n",
              "      <td>-0.013833</td>\n",
              "      <td>0.596680</td>\n",
              "      <td>0.308892</td>\n",
              "      <td>...</td>\n",
              "      <td>0.193538</td>\n",
              "      <td>0.245277</td>\n",
              "      <td>0.197017</td>\n",
              "      <td>0.015799</td>\n",
              "      <td>0.049183</td>\n",
              "      <td>-0.179197</td>\n",
              "      <td>0.177226</td>\n",
              "      <td>-0.035737</td>\n",
              "      <td>0.335596</td>\n",
              "      <td>-0.045172</td>\n",
              "    </tr>\n",
              "    <tr>\n",
              "      <th>12 Angry Men (1957)</th>\n",
              "      <td>-0.210149</td>\n",
              "      <td>1.000000</td>\n",
              "      <td>0.104729</td>\n",
              "      <td>0.361158</td>\n",
              "      <td>0.224537</td>\n",
              "      <td>0.263072</td>\n",
              "      <td>0.446791</td>\n",
              "      <td>-0.083251</td>\n",
              "      <td>0.323204</td>\n",
              "      <td>0.175803</td>\n",
              "      <td>...</td>\n",
              "      <td>0.225308</td>\n",
              "      <td>0.453054</td>\n",
              "      <td>0.059308</td>\n",
              "      <td>0.268298</td>\n",
              "      <td>0.407469</td>\n",
              "      <td>0.469118</td>\n",
              "      <td>0.055014</td>\n",
              "      <td>0.388298</td>\n",
              "      <td>0.255769</td>\n",
              "      <td>0.523983</td>\n",
              "    </tr>\n",
              "    <tr>\n",
              "      <th>2001: A Space Odyssey (1968)</th>\n",
              "      <td>0.222436</td>\n",
              "      <td>0.104729</td>\n",
              "      <td>1.000000</td>\n",
              "      <td>-0.071055</td>\n",
              "      <td>0.034528</td>\n",
              "      <td>-0.009938</td>\n",
              "      <td>0.158227</td>\n",
              "      <td>-0.206524</td>\n",
              "      <td>0.230550</td>\n",
              "      <td>-0.232466</td>\n",
              "      <td>...</td>\n",
              "      <td>-0.517721</td>\n",
              "      <td>-0.136386</td>\n",
              "      <td>0.000000</td>\n",
              "      <td>0.119701</td>\n",
              "      <td>0.080504</td>\n",
              "      <td>0.183597</td>\n",
              "      <td>0.221392</td>\n",
              "      <td>-0.325544</td>\n",
              "      <td>-0.269838</td>\n",
              "      <td>0.285687</td>\n",
              "    </tr>\n",
              "    <tr>\n",
              "      <th>28 Days Later (2002)</th>\n",
              "      <td>-0.068151</td>\n",
              "      <td>0.361158</td>\n",
              "      <td>-0.071055</td>\n",
              "      <td>1.000000</td>\n",
              "      <td>0.053525</td>\n",
              "      <td>-0.077845</td>\n",
              "      <td>0.308257</td>\n",
              "      <td>0.187546</td>\n",
              "      <td>0.030602</td>\n",
              "      <td>0.109572</td>\n",
              "      <td>...</td>\n",
              "      <td>0.442711</td>\n",
              "      <td>0.134044</td>\n",
              "      <td>0.240772</td>\n",
              "      <td>0.211554</td>\n",
              "      <td>-0.049029</td>\n",
              "      <td>0.229792</td>\n",
              "      <td>0.276815</td>\n",
              "      <td>0.115522</td>\n",
              "      <td>0.462065</td>\n",
              "      <td>0.952579</td>\n",
              "    </tr>\n",
              "    <tr>\n",
              "      <th>300 (2007)</th>\n",
              "      <td>-0.104619</td>\n",
              "      <td>0.224537</td>\n",
              "      <td>0.034528</td>\n",
              "      <td>0.053525</td>\n",
              "      <td>1.000000</td>\n",
              "      <td>0.129896</td>\n",
              "      <td>0.208937</td>\n",
              "      <td>-0.468637</td>\n",
              "      <td>0.430155</td>\n",
              "      <td>0.308295</td>\n",
              "      <td>...</td>\n",
              "      <td>-0.067648</td>\n",
              "      <td>0.355501</td>\n",
              "      <td>0.482177</td>\n",
              "      <td>0.206330</td>\n",
              "      <td>-0.577350</td>\n",
              "      <td>-0.064455</td>\n",
              "      <td>0.650941</td>\n",
              "      <td>0.328437</td>\n",
              "      <td>0.123909</td>\n",
              "      <td>0.315576</td>\n",
              "    </tr>\n",
              "  </tbody>\n",
              "</table>\n",
              "<p>5 rows × 444 columns</p>\n",
              "</div>"
            ],
            "text/plain": [
              "title                              10 Things I Hate About You (1999)  \\\n",
              "title                                                                  \n",
              "10 Things I Hate About You (1999)                           1.000000   \n",
              "12 Angry Men (1957)                                        -0.210149   \n",
              "2001: A Space Odyssey (1968)                                0.222436   \n",
              "28 Days Later (2002)                                       -0.068151   \n",
              "300 (2007)                                                 -0.104619   \n",
              "\n",
              "title                              12 Angry Men (1957)  \\\n",
              "title                                                    \n",
              "10 Things I Hate About You (1999)            -0.210149   \n",
              "12 Angry Men (1957)                           1.000000   \n",
              "2001: A Space Odyssey (1968)                  0.104729   \n",
              "28 Days Later (2002)                          0.361158   \n",
              "300 (2007)                                    0.224537   \n",
              "\n",
              "title                              2001: A Space Odyssey (1968)  \\\n",
              "title                                                             \n",
              "10 Things I Hate About You (1999)                      0.222436   \n",
              "12 Angry Men (1957)                                    0.104729   \n",
              "2001: A Space Odyssey (1968)                           1.000000   \n",
              "28 Days Later (2002)                                  -0.071055   \n",
              "300 (2007)                                             0.034528   \n",
              "\n",
              "title                              28 Days Later (2002)  300 (2007)  \\\n",
              "title                                                                 \n",
              "10 Things I Hate About You (1999)             -0.068151   -0.104619   \n",
              "12 Angry Men (1957)                            0.361158    0.224537   \n",
              "2001: A Space Odyssey (1968)                  -0.071055    0.034528   \n",
              "28 Days Later (2002)                           1.000000    0.053525   \n",
              "300 (2007)                                     0.053525    1.000000   \n",
              "\n",
              "title                              40-Year-Old Virgin, The (2005)  \\\n",
              "title                                                               \n",
              "10 Things I Hate About You (1999)                       -0.385591   \n",
              "12 Angry Men (1957)                                      0.263072   \n",
              "2001: A Space Odyssey (1968)                            -0.009938   \n",
              "28 Days Later (2002)                                    -0.077845   \n",
              "300 (2007)                                               0.129896   \n",
              "\n",
              "title                              A.I. Artificial Intelligence (2001)  \\\n",
              "title                                                                    \n",
              "10 Things I Hate About You (1999)                            -0.365527   \n",
              "12 Angry Men (1957)                                           0.446791   \n",
              "2001: A Space Odyssey (1968)                                  0.158227   \n",
              "28 Days Later (2002)                                          0.308257   \n",
              "300 (2007)                                                    0.208937   \n",
              "\n",
              "title                              About a Boy (2002)  Abyss, The (1989)  \\\n",
              "title                                                                      \n",
              "10 Things I Hate About You (1999)           -0.013833           0.596680   \n",
              "12 Angry Men (1957)                         -0.083251           0.323204   \n",
              "2001: A Space Odyssey (1968)                -0.206524           0.230550   \n",
              "28 Days Later (2002)                         0.187546           0.030602   \n",
              "300 (2007)                                  -0.468637           0.430155   \n",
              "\n",
              "title                              Ace Ventura: Pet Detective (1994)  ...  \\\n",
              "title                                                                 ...   \n",
              "10 Things I Hate About You (1999)                           0.308892  ...   \n",
              "12 Angry Men (1957)                                         0.175803  ...   \n",
              "2001: A Space Odyssey (1968)                               -0.232466  ...   \n",
              "28 Days Later (2002)                                        0.109572  ...   \n",
              "300 (2007)                                                  0.308295  ...   \n",
              "\n",
              "title                              While You Were Sleeping (1995)  \\\n",
              "title                                                               \n",
              "10 Things I Hate About You (1999)                        0.193538   \n",
              "12 Angry Men (1957)                                      0.225308   \n",
              "2001: A Space Odyssey (1968)                            -0.517721   \n",
              "28 Days Later (2002)                                     0.442711   \n",
              "300 (2007)                                              -0.067648   \n",
              "\n",
              "title                              Who Framed Roger Rabbit? (1988)  \\\n",
              "title                                                                \n",
              "10 Things I Hate About You (1999)                         0.245277   \n",
              "12 Angry Men (1957)                                       0.453054   \n",
              "2001: A Space Odyssey (1968)                             -0.136386   \n",
              "28 Days Later (2002)                                      0.134044   \n",
              "300 (2007)                                                0.355501   \n",
              "\n",
              "title                              William Shakespeare's Romeo + Juliet (1996)  \\\n",
              "title                                                                            \n",
              "10 Things I Hate About You (1999)                                     0.197017   \n",
              "12 Angry Men (1957)                                                   0.059308   \n",
              "2001: A Space Odyssey (1968)                                          0.000000   \n",
              "28 Days Later (2002)                                                  0.240772   \n",
              "300 (2007)                                                            0.482177   \n",
              "\n",
              "title                              Willy Wonka & the Chocolate Factory (1971)  \\\n",
              "title                                                                           \n",
              "10 Things I Hate About You (1999)                                    0.015799   \n",
              "12 Angry Men (1957)                                                  0.268298   \n",
              "2001: A Space Odyssey (1968)                                         0.119701   \n",
              "28 Days Later (2002)                                                 0.211554   \n",
              "300 (2007)                                                           0.206330   \n",
              "\n",
              "title                              Witness (1985)  Wizard of Oz, The (1939)  \\\n",
              "title                                                                         \n",
              "10 Things I Hate About You (1999)        0.049183                 -0.179197   \n",
              "12 Angry Men (1957)                      0.407469                  0.469118   \n",
              "2001: A Space Odyssey (1968)             0.080504                  0.183597   \n",
              "28 Days Later (2002)                    -0.049029                  0.229792   \n",
              "300 (2007)                              -0.577350                 -0.064455   \n",
              "\n",
              "title                              X-Men (2000)  X2: X-Men United (2003)  \\\n",
              "title                                                                      \n",
              "10 Things I Hate About You (1999)      0.177226                -0.035737   \n",
              "12 Angry Men (1957)                    0.055014                 0.388298   \n",
              "2001: A Space Odyssey (1968)           0.221392                -0.325544   \n",
              "28 Days Later (2002)                   0.276815                 0.115522   \n",
              "300 (2007)                             0.650941                 0.328437   \n",
              "\n",
              "title                              You've Got Mail (1998)  \\\n",
              "title                                                       \n",
              "10 Things I Hate About You (1999)                0.335596   \n",
              "12 Angry Men (1957)                              0.255769   \n",
              "2001: A Space Odyssey (1968)                    -0.269838   \n",
              "28 Days Later (2002)                             0.462065   \n",
              "300 (2007)                                       0.123909   \n",
              "\n",
              "title                              Young Frankenstein (1974)  \n",
              "title                                                         \n",
              "10 Things I Hate About You (1999)                  -0.045172  \n",
              "12 Angry Men (1957)                                 0.523983  \n",
              "2001: A Space Odyssey (1968)                        0.285687  \n",
              "28 Days Later (2002)                                0.952579  \n",
              "300 (2007)                                          0.315576  \n",
              "\n",
              "[5 rows x 444 columns]"
            ]
          },
          "execution_count": 177,
          "metadata": {},
          "output_type": "execute_result"
        }
      ],
      "source": [
        "# Item similarity matrix using Pearson correlation\n",
        "item_similarity = matrix_norm.T.corr()\n",
        "item_similarity.head()"
      ]
    },
    {
      "cell_type": "markdown",
      "metadata": {
        "id": "OiqZyek3LpYL"
      },
      "source": [
        "Those who are interested in using cosine similarity can refer to this code. Since `cosine_similarity` does not take missing values, we need to impute the missing values with 0s before the calculation."
      ]
    },
    {
      "cell_type": "code",
      "execution_count": 178,
      "metadata": {
        "colab": {
          "base_uri": "https://localhost:8080/"
        },
        "id": "N-eeqclzKm_V",
        "outputId": "0606bd65-40b0-4407-9f9a-1a460c4c640c"
      },
      "outputs": [
        {
          "data": {
            "text/plain": [
              "array([[ 1.        , -0.01761255,  0.05516732, ..., -0.0169911 ,\n",
              "         0.10671479, -0.01158062],\n",
              "       [-0.01761255,  1.        ,  0.04857941, ...,  0.09725913,\n",
              "         0.10456069,  0.08072039],\n",
              "       [ 0.05516732,  0.04857941,  1.        , ..., -0.1039785 ,\n",
              "        -0.05367487,  0.09042761],\n",
              "       ...,\n",
              "       [-0.0169911 ,  0.09725913, -0.1039785 , ...,  1.        ,\n",
              "         0.03838416,  0.02936839],\n",
              "       [ 0.10671479,  0.10456069, -0.05367487, ...,  0.03838416,\n",
              "         1.        , -0.01898024],\n",
              "       [-0.01158062,  0.08072039,  0.09042761, ...,  0.02936839,\n",
              "        -0.01898024,  1.        ]])"
            ]
          },
          "execution_count": 178,
          "metadata": {},
          "output_type": "execute_result"
        }
      ],
      "source": [
        "# Item similarity matrix using cosine similarity\n",
        "item_similarity_cosine = cosine_similarity(matrix_norm.fillna(0))\n",
        "item_similarity_cosine"
      ]
    },
    {
      "cell_type": "markdown",
      "metadata": {
        "id": "9dW_zH8wl1Bs"
      },
      "source": [
        "In the movie similarity matrix, the values range from -1 to 1, where -1 means opposite movie similarity and 1 means very high movie similarity."
      ]
    },
    {
      "cell_type": "markdown",
      "metadata": {
        "id": "NwjVPkZPctFU"
      },
      "source": [
        "## Step 7: Predict User's Rating For One Movie"
      ]
    },
    {
      "cell_type": "markdown",
      "metadata": {
        "id": "nnurgPBvdM87"
      },
      "source": [
        "In step 7, we will predict a user's rating for one movie. Let's use user 1 and the movie American Pie as an example.\n",
        "\n",
        "The prediction follows the process below:\n",
        "1. Create a list of the movies that user 2 has watched and rated.\n",
        "2. Rank the similarities between the movies user 2 rated and American Pie.\n",
        "3. Select top n movies with highest similarity scores.\n",
        "4. Calculate the predicted rating using weighted average of similarity scores and the ratings from user 1."
      ]
    },
    {
      "cell_type": "markdown",
      "metadata": {
        "id": "IvUsbxDz5ftp"
      },
      "source": [
        "Now let's implement the process using Python.\n",
        "\n",
        "Firstly, we removed all the movies that have a missing rating for user 2, and sorted the movies by the ratings."
      ]
    },
    {
      "cell_type": "code",
      "execution_count": 185,
      "metadata": {
        "colab": {
          "base_uri": "https://localhost:8080/",
          "height": 206
        },
        "id": "_NLnHDM34R2B",
        "outputId": "821f3edb-518b-4226-cca7-3560983aad70"
      },
      "outputs": [
        {
          "data": {
            "text/html": [
              "<div>\n",
              "<style scoped>\n",
              "    .dataframe tbody tr th:only-of-type {\n",
              "        vertical-align: middle;\n",
              "    }\n",
              "\n",
              "    .dataframe tbody tr th {\n",
              "        vertical-align: top;\n",
              "    }\n",
              "\n",
              "    .dataframe thead th {\n",
              "        text-align: right;\n",
              "    }\n",
              "</style>\n",
              "<table border=\"1\" class=\"dataframe\">\n",
              "  <thead>\n",
              "    <tr style=\"text-align: right;\">\n",
              "      <th></th>\n",
              "      <th>title</th>\n",
              "      <th>rating</th>\n",
              "    </tr>\n",
              "  </thead>\n",
              "  <tbody>\n",
              "    <tr>\n",
              "      <th>0</th>\n",
              "      <td>Batman (1989)</td>\n",
              "      <td>1.602041</td>\n",
              "    </tr>\n",
              "    <tr>\n",
              "      <th>1</th>\n",
              "      <td>Clueless (1995)</td>\n",
              "      <td>1.450000</td>\n",
              "    </tr>\n",
              "    <tr>\n",
              "      <th>2</th>\n",
              "      <td>Dances with Wolves (1990)</td>\n",
              "      <td>1.282178</td>\n",
              "    </tr>\n",
              "    <tr>\n",
              "      <th>3</th>\n",
              "      <td>Batman Forever (1995)</td>\n",
              "      <td>1.217054</td>\n",
              "    </tr>\n",
              "    <tr>\n",
              "      <th>4</th>\n",
              "      <td>Apollo 13 (1995)</td>\n",
              "      <td>1.097500</td>\n",
              "    </tr>\n",
              "    <tr>\n",
              "      <th>5</th>\n",
              "      <td>Terminator 2: Judgment Day (1991)</td>\n",
              "      <td>0.993671</td>\n",
              "    </tr>\n",
              "    <tr>\n",
              "      <th>6</th>\n",
              "      <td>Interview with the Vampire: The Vampire Chroni...</td>\n",
              "      <td>0.604000</td>\n",
              "    </tr>\n",
              "    <tr>\n",
              "      <th>7</th>\n",
              "      <td>GoldenEye (1995)</td>\n",
              "      <td>0.549180</td>\n",
              "    </tr>\n",
              "    <tr>\n",
              "      <th>8</th>\n",
              "      <td>Mrs. Doubtfire (1993)</td>\n",
              "      <td>0.532680</td>\n",
              "    </tr>\n",
              "    <tr>\n",
              "      <th>9</th>\n",
              "      <td>Firm, The (1993)</td>\n",
              "      <td>0.527273</td>\n",
              "    </tr>\n",
              "  </tbody>\n",
              "</table>\n",
              "</div>"
            ],
            "text/plain": [
              "                                               title    rating\n",
              "0                                      Batman (1989)  1.602041\n",
              "1                                    Clueless (1995)  1.450000\n",
              "2                          Dances with Wolves (1990)  1.282178\n",
              "3                              Batman Forever (1995)  1.217054\n",
              "4                                   Apollo 13 (1995)  1.097500\n",
              "5                  Terminator 2: Judgment Day (1991)  0.993671\n",
              "6  Interview with the Vampire: The Vampire Chroni...  0.604000\n",
              "7                                   GoldenEye (1995)  0.549180\n",
              "8                              Mrs. Doubtfire (1993)  0.532680\n",
              "9                                   Firm, The (1993)  0.527273"
            ]
          },
          "execution_count": 185,
          "metadata": {},
          "output_type": "execute_result"
        }
      ],
      "source": [
        "# Pick a user ID\n",
        "picked_userid = 2\n",
        "\n",
        "# Pick a movie\n",
        "picked_movie = 'American Pie (1999)'\n",
        "\n",
        "# Movies that the target user has watched\n",
        "picked_userid_watched = pd.DataFrame(matrix_norm[picked_userid].dropna(axis=0, how='all')\\\n",
        "                          .sort_values(ascending=False))\\\n",
        "                          .reset_index()\\\n",
        "                          .rename(columns={picked_userid:'rating'})\n",
        "\n",
        "picked_userid_watched.head(10)"
      ]
    },
    {
      "cell_type": "markdown",
      "metadata": {
        "id": "PERQJtks7xXl"
      },
      "source": [
        "Next, we get the similarity score of the movie American Pie with the movie user 1 has watched, and pick the top 5 movies with the highest similarity score."
      ]
    },
    {
      "cell_type": "code",
      "execution_count": 180,
      "metadata": {
        "colab": {
          "base_uri": "https://localhost:8080/",
          "height": 206
        },
        "id": "-cyp2p_RtrYD",
        "outputId": "972a2204-bc56-4880-f224-dae974ade30c"
      },
      "outputs": [
        {
          "data": {
            "text/html": [
              "<div>\n",
              "<style scoped>\n",
              "    .dataframe tbody tr th:only-of-type {\n",
              "        vertical-align: middle;\n",
              "    }\n",
              "\n",
              "    .dataframe tbody tr th {\n",
              "        vertical-align: top;\n",
              "    }\n",
              "\n",
              "    .dataframe thead th {\n",
              "        text-align: right;\n",
              "    }\n",
              "</style>\n",
              "<table border=\"1\" class=\"dataframe\">\n",
              "  <thead>\n",
              "    <tr style=\"text-align: right;\">\n",
              "      <th></th>\n",
              "      <th>title</th>\n",
              "      <th>rating</th>\n",
              "      <th>similarity_score</th>\n",
              "    </tr>\n",
              "  </thead>\n",
              "  <tbody>\n",
              "    <tr>\n",
              "      <th>29</th>\n",
              "      <td>Disclosure (1994)</td>\n",
              "      <td>-0.173077</td>\n",
              "      <td>0.728522</td>\n",
              "    </tr>\n",
              "    <tr>\n",
              "      <th>21</th>\n",
              "      <td>Clear and Present Danger (1994)</td>\n",
              "      <td>0.213043</td>\n",
              "      <td>0.573775</td>\n",
              "    </tr>\n",
              "    <tr>\n",
              "      <th>20</th>\n",
              "      <td>Waterworld (1995)</td>\n",
              "      <td>0.247788</td>\n",
              "      <td>0.513033</td>\n",
              "    </tr>\n",
              "    <tr>\n",
              "      <th>5</th>\n",
              "      <td>Batman Forever (1995)</td>\n",
              "      <td>1.217054</td>\n",
              "      <td>0.506464</td>\n",
              "    </tr>\n",
              "    <tr>\n",
              "      <th>10</th>\n",
              "      <td>Client, The (1994)</td>\n",
              "      <td>0.671429</td>\n",
              "      <td>0.504512</td>\n",
              "    </tr>\n",
              "  </tbody>\n",
              "</table>\n",
              "</div>"
            ],
            "text/plain": [
              "                              title    rating  similarity_score\n",
              "29                Disclosure (1994) -0.173077          0.728522\n",
              "21  Clear and Present Danger (1994)  0.213043          0.573775\n",
              "20                Waterworld (1995)  0.247788          0.513033\n",
              "5             Batman Forever (1995)  1.217054          0.506464\n",
              "10               Client, The (1994)  0.671429          0.504512"
            ]
          },
          "execution_count": 180,
          "metadata": {},
          "output_type": "execute_result"
        }
      ],
      "source": [
        "# Similarity score of the movie American Pie with all the other movies\n",
        "picked_movie_similarity_score = item_similarity[[picked_movie]].reset_index().rename(columns={picked_movie:'similarity_score'})\n",
        "\n",
        "# Rank the similarities between the movies user 1 rated and American Pie.\n",
        "n = 5\n",
        "picked_userid_watched_similarity = pd.merge(left=picked_userid_watched,\n",
        "                                            right=picked_movie_similarity_score,\n",
        "                                            on='title',\n",
        "                                            how='inner')\\\n",
        "                                     .sort_values('similarity_score', ascending=False)[:5]\n",
        "\n",
        "# Take a look at the User 1 watched movies with highest similarity\n",
        "picked_userid_watched_similarity"
      ]
    },
    {
      "cell_type": "markdown",
      "metadata": {
        "id": "DSV9L7g3-J-6"
      },
      "source": [
        "After that, calculate the weighted average of ratings and similarities scores, so the movies with higher similarity scores get more weight. This weighted average is the predicted rating for American Pie by user 1."
      ]
    },
    {
      "cell_type": "code",
      "execution_count": 181,
      "metadata": {
        "colab": {
          "base_uri": "https://localhost:8080/"
        },
        "id": "peIuk2tEvjXE",
        "outputId": "14192017-effd-4318-8b7f-faa1f01eef5a"
      },
      "outputs": [
        {
          "name": "stdout",
          "output_type": "stream",
          "text": [
            "The predicted rating for American Pie (1999) by user 2 is 0.381561\n"
          ]
        }
      ],
      "source": [
        "# Calculate the predicted rating using weighted average of similarity scores and the ratings from user 1\n",
        "predicted_rating = round(np.average(picked_userid_watched_similarity['rating'],\n",
        "                                    weights=picked_userid_watched_similarity['similarity_score']), 6)\n",
        "\n",
        "print(f'The predicted rating for {picked_movie} by user {picked_userid} is {predicted_rating}' )"
      ]
    },
    {
      "cell_type": "markdown",
      "metadata": {
        "id": "voj-J2Idz844"
      },
      "source": [
        "## Step 8: Movie Recommendation"
      ]
    },
    {
      "cell_type": "markdown",
      "metadata": {
        "id": "-w3PgTUp0kaF"
      },
      "source": [
        "An item-item movie recommendation system following four steps:\n",
        "1. Create a list of movie that the target user has not watched before.\n",
        "2. Loop through the unwatched movie and create predicted scores for each movie.\n",
        "3. Rank the predicted score of unwatched movie from high to low.\n",
        "4. Select the top k movies as the recommendations for the target user.\n",
        "\n",
        "The Python function below implemented the four steps. With the input of `picked_userid`, `number_of_similar_items`, and `number_of_recommendations`, we can get the top movies for the user and their corresponding ratings. Note that the ratings are normalized by extracting the average rating for the movie, so we need to add the average value back to the predicted ratings if we want the predicted ratings to be on the same scale as the original ratings."
      ]
    },
    {
      "cell_type": "code",
      "execution_count": 182,
      "metadata": {
        "colab": {
          "base_uri": "https://localhost:8080/"
        },
        "id": "DaXllw2ePo_h",
        "outputId": "d3785415-0a01-4ff6-b453-1cc180d655b6"
      },
      "outputs": [
        {
          "data": {
            "text/plain": [
              "[('Eternal Sunshine of the Spotless Mind (2004)', 0.676),\n",
              " ('Star Trek (2009)', 0.56),\n",
              " ('40-Year-Old Virgin, The (2005)', 0.524),\n",
              " ('Eyes Wide Shut (1999)', 0.512),\n",
              " ('Prestige, The (2006)', 0.469),\n",
              " ('Fight Club (1999)', 0.449),\n",
              " ('Groundhog Day (1993)', 0.393),\n",
              " ('Trainspotting (1996)', 0.383),\n",
              " ('Seven (a.k.a. Se7en) (1995)', 0.363),\n",
              " ('Animal House (1978)', 0.357)]"
            ]
          },
          "execution_count": 182,
          "metadata": {},
          "output_type": "execute_result"
        }
      ],
      "source": [
        "# Item-based recommendation function\n",
        "def item_based_rec(picked_userid, number_of_similar_items, number_of_recommendations):\n",
        "  import operator\n",
        "  # Movies that the target user has not watched\n",
        "  picked_userid_unwatched = pd.DataFrame(matrix_norm[picked_userid].isna()).reset_index()\n",
        "  picked_userid_unwatched = picked_userid_unwatched[picked_userid_unwatched[picked_userid]==True]['title'].values.tolist()\n",
        "\n",
        "  # Movies that the target user has watched\n",
        "  picked_userid_watched = pd.DataFrame(matrix_norm[picked_userid].dropna(axis=0, how='all')\\\n",
        "                            .sort_values(ascending=False))\\\n",
        "                            .reset_index()\\\n",
        "                            .rename(columns={picked_userid:'rating'})\n",
        "\n",
        "  # Dictionary to save the unwatched movie and predicted rating pair\n",
        "  rating_prediction ={}\n",
        "\n",
        "  # Loop through unwatched movies\n",
        "  for picked_movie in picked_userid_unwatched:\n",
        "    # Calculate the similarity score of the picked movie iwth other movies\n",
        "    picked_movie_similarity_score = item_similarity[[picked_movie]].reset_index().rename(columns={picked_movie:'similarity_score'})\n",
        "    # Rank the similarities between the picked user watched movie and the picked unwatched movie.\n",
        "    picked_userid_watched_similarity = pd.merge(left=picked_userid_watched,\n",
        "                                                right=picked_movie_similarity_score,\n",
        "                                                on='title',\n",
        "                                                how='inner')\\\n",
        "                                        .sort_values('similarity_score', ascending=False)[:number_of_similar_items]\n",
        "    # Calculate the predicted rating using weighted average of similarity scores and the ratings from user 1\n",
        "    predicted_rating = round(np.average(picked_userid_watched_similarity['rating'],\n",
        "                                        weights=picked_userid_watched_similarity['similarity_score']), 3)\n",
        "    # Save the predicted rating in the dictionary\n",
        "    rating_prediction[picked_movie] = predicted_rating\n",
        "    # Return the top recommended movies\n",
        "  return sorted(rating_prediction.items(), key=operator.itemgetter(1), reverse=True)[:number_of_recommendations]\n",
        "\n",
        "# Get recommendations\n",
        "recommended_movie = item_based_rec(picked_userid=100, number_of_similar_items=5, number_of_recommendations =10)\n",
        "recommended_movie"
      ]
    }
  ],
  "metadata": {
    "colab": {
      "provenance": []
    },
    "kernelspec": {
      "display_name": "Python 3",
      "name": "python3"
    },
    "language_info": {
      "codemirror_mode": {
        "name": "ipython",
        "version": 3
      },
      "file_extension": ".py",
      "mimetype": "text/x-python",
      "name": "python",
      "nbconvert_exporter": "python",
      "pygments_lexer": "ipython3",
      "version": "3.10.7"
    }
  },
  "nbformat": 4,
  "nbformat_minor": 0
}
